{
 "cells": [
  {
   "cell_type": "code",
   "execution_count": 1,
   "id": "22a14d61",
   "metadata": {},
   "outputs": [],
   "source": [
    "# Import the dependencies.\n",
    "import pandas as pd\n",
    "import gmaps\n",
    "import requests\n",
    "# Import the API key.\n",
    "from config import g_key\n"
   ]
  },
  {
   "cell_type": "code",
   "execution_count": 2,
   "id": "d516b483",
   "metadata": {},
   "outputs": [
    {
     "data": {
      "text/html": [
       "<div>\n",
       "<style scoped>\n",
       "    .dataframe tbody tr th:only-of-type {\n",
       "        vertical-align: middle;\n",
       "    }\n",
       "\n",
       "    .dataframe tbody tr th {\n",
       "        vertical-align: top;\n",
       "    }\n",
       "\n",
       "    .dataframe thead th {\n",
       "        text-align: right;\n",
       "    }\n",
       "</style>\n",
       "<table border=\"1\" class=\"dataframe\">\n",
       "  <thead>\n",
       "    <tr style=\"text-align: right;\">\n",
       "      <th></th>\n",
       "      <th>City_ID</th>\n",
       "      <th>City</th>\n",
       "      <th>Country</th>\n",
       "      <th>Date</th>\n",
       "      <th>Lat</th>\n",
       "      <th>Lng</th>\n",
       "      <th>Max Temp</th>\n",
       "      <th>Humidity</th>\n",
       "      <th>Cloudiness</th>\n",
       "      <th>Wind Speed</th>\n",
       "    </tr>\n",
       "  </thead>\n",
       "  <tbody>\n",
       "    <tr>\n",
       "      <th>0</th>\n",
       "      <td>0</td>\n",
       "      <td>Upernavik</td>\n",
       "      <td>GL</td>\n",
       "      <td>2022-07-14 11:46:51</td>\n",
       "      <td>72.7868</td>\n",
       "      <td>-56.1549</td>\n",
       "      <td>38.48</td>\n",
       "      <td>88</td>\n",
       "      <td>30</td>\n",
       "      <td>14.81</td>\n",
       "    </tr>\n",
       "    <tr>\n",
       "      <th>1</th>\n",
       "      <td>1</td>\n",
       "      <td>Rikitea</td>\n",
       "      <td>PF</td>\n",
       "      <td>2022-07-14 11:51:40</td>\n",
       "      <td>-23.1203</td>\n",
       "      <td>-134.9692</td>\n",
       "      <td>68.38</td>\n",
       "      <td>86</td>\n",
       "      <td>100</td>\n",
       "      <td>10.74</td>\n",
       "    </tr>\n",
       "    <tr>\n",
       "      <th>2</th>\n",
       "      <td>2</td>\n",
       "      <td>Sitka</td>\n",
       "      <td>US</td>\n",
       "      <td>2022-07-14 11:51:40</td>\n",
       "      <td>57.0531</td>\n",
       "      <td>-135.3300</td>\n",
       "      <td>57.09</td>\n",
       "      <td>67</td>\n",
       "      <td>100</td>\n",
       "      <td>9.22</td>\n",
       "    </tr>\n",
       "    <tr>\n",
       "      <th>3</th>\n",
       "      <td>3</td>\n",
       "      <td>Yeppoon</td>\n",
       "      <td>AU</td>\n",
       "      <td>2022-07-14 11:51:41</td>\n",
       "      <td>-23.1333</td>\n",
       "      <td>150.7333</td>\n",
       "      <td>51.58</td>\n",
       "      <td>62</td>\n",
       "      <td>0</td>\n",
       "      <td>8.46</td>\n",
       "    </tr>\n",
       "    <tr>\n",
       "      <th>4</th>\n",
       "      <td>4</td>\n",
       "      <td>Carnarvon</td>\n",
       "      <td>AU</td>\n",
       "      <td>2022-07-14 11:51:41</td>\n",
       "      <td>-24.8667</td>\n",
       "      <td>113.6333</td>\n",
       "      <td>69.24</td>\n",
       "      <td>77</td>\n",
       "      <td>8</td>\n",
       "      <td>10.98</td>\n",
       "    </tr>\n",
       "  </tbody>\n",
       "</table>\n",
       "</div>"
      ],
      "text/plain": [
       "   City_ID       City Country                 Date      Lat       Lng  \\\n",
       "0        0  Upernavik      GL  2022-07-14 11:46:51  72.7868  -56.1549   \n",
       "1        1    Rikitea      PF  2022-07-14 11:51:40 -23.1203 -134.9692   \n",
       "2        2      Sitka      US  2022-07-14 11:51:40  57.0531 -135.3300   \n",
       "3        3    Yeppoon      AU  2022-07-14 11:51:41 -23.1333  150.7333   \n",
       "4        4  Carnarvon      AU  2022-07-14 11:51:41 -24.8667  113.6333   \n",
       "\n",
       "   Max Temp  Humidity  Cloudiness  Wind Speed  \n",
       "0     38.48        88          30       14.81  \n",
       "1     68.38        86         100       10.74  \n",
       "2     57.09        67         100        9.22  \n",
       "3     51.58        62           0        8.46  \n",
       "4     69.24        77           8       10.98  "
      ]
     },
     "execution_count": 2,
     "metadata": {},
     "output_type": "execute_result"
    }
   ],
   "source": [
    "# Store the CSV you saved created in part one into a DataFrame.\n",
    "city_data_df = pd.read_csv(\"weather_data/cities.csv\")\n",
    "city_data_df.head()"
   ]
  },
  {
   "cell_type": "code",
   "execution_count": 3,
   "id": "b44c60a1",
   "metadata": {},
   "outputs": [],
   "source": [
    "# Configure gmaps to use your Google API key.\n",
    "gmaps.configure(api_key=g_key)"
   ]
  },
  {
   "cell_type": "code",
   "execution_count": 4,
   "id": "5ef198f1",
   "metadata": {},
   "outputs": [],
   "source": [
    "# Get the maximum temperature.\n",
    "max_temp = city_data_df[\"Max Temp\"]\n",
    "temps = []\n",
    "for temp in max_temp:\n",
    "    temps.append(max(temp, 0))"
   ]
  },
  {
   "cell_type": "code",
   "execution_count": null,
   "id": "48227b7a",
   "metadata": {},
   "outputs": [],
   "source": []
  },
  {
   "cell_type": "code",
   "execution_count": 5,
   "id": "927ce5bf",
   "metadata": {},
   "outputs": [],
   "source": [
    "# 1. Assign the locations to an array of latitude and longitude pairs.\n",
    "#locations = [latitude, longitude]\n",
    "# Get the latitude and longitude.\n",
    "locations = city_data_df[[\"Lat\", \"Lng\"]]\n",
    "\n",
    "#print(locations)"
   ]
  },
  {
   "cell_type": "code",
   "execution_count": 6,
   "id": "3799fee1",
   "metadata": {},
   "outputs": [],
   "source": [
    "# 2. Assign the weights variable to some values.\n",
    "#temperatures = # an array of length equal to the locations array length\n",
    "# Get the maximum temperature.\n",
    "max_temp = city_data_df[\"Max Temp\"]\n",
    "\n",
    "#print(max_temp)"
   ]
  },
  {
   "cell_type": "code",
   "execution_count": 7,
   "id": "25be419a",
   "metadata": {},
   "outputs": [],
   "source": [
    "# 3. Assign the figure variable to the gmaps.figure() attribute.\n",
    "fig = gmaps.figure()"
   ]
  },
  {
   "cell_type": "code",
   "execution_count": 8,
   "id": "14ed463b",
   "metadata": {},
   "outputs": [],
   "source": [
    "# 4. Assign the heatmap_layer variable to the heatmap_layer attribute and add in the locations.\n",
    "heatmap_layer = gmaps.heatmap_layer(locations, weights=max_temp)"
   ]
  },
  {
   "cell_type": "code",
   "execution_count": 9,
   "id": "c0d1d425",
   "metadata": {},
   "outputs": [],
   "source": [
    "# 5. Add the heatmap layer.\n",
    "fig.add_layer(heatmap_layer)"
   ]
  },
  {
   "cell_type": "code",
   "execution_count": 10,
   "id": "f8a17bfa",
   "metadata": {},
   "outputs": [
    {
     "data": {
      "application/vnd.jupyter.widget-view+json": {
       "model_id": "9921261a776b44cda889241e67e49761",
       "version_major": 2,
       "version_minor": 0
      },
      "text/plain": [
       "Figure(layout=FigureLayout(height='420px'))"
      ]
     },
     "metadata": {},
     "output_type": "display_data"
    }
   ],
   "source": [
    "# 6. Call the figure to plot the data.\n",
    "fig"
   ]
  },
  {
   "cell_type": "code",
   "execution_count": 11,
   "id": "8353a31c",
   "metadata": {},
   "outputs": [],
   "source": [
    "heat_layer = gmaps.heatmap_layer(locations, weights=[max(temp, 0) for temp in max_temp])"
   ]
  },
  {
   "cell_type": "code",
   "execution_count": 12,
   "id": "4047b0a5",
   "metadata": {},
   "outputs": [
    {
     "data": {
      "application/vnd.jupyter.widget-view+json": {
       "model_id": "98d324f96df24bddb5ac0fea36e58c8a",
       "version_major": 2,
       "version_minor": 0
      },
      "text/plain": [
       "Figure(layout=FigureLayout(height='420px'))"
      ]
     },
     "metadata": {},
     "output_type": "display_data"
    }
   ],
   "source": [
    "fig = gmaps.figure(center=(30.0, 31.0), zoom_level=1.5)\n",
    "fig.add_layer(heat_layer)\n",
    "fig"
   ]
  },
  {
   "cell_type": "code",
   "execution_count": 13,
   "id": "030f212c",
   "metadata": {},
   "outputs": [
    {
     "data": {
      "application/vnd.jupyter.widget-view+json": {
       "model_id": "f5cedbad8b144b759d5b23be22f35b51",
       "version_major": 2,
       "version_minor": 0
      },
      "text/plain": [
       "Figure(layout=FigureLayout(height='420px'))"
      ]
     },
     "metadata": {},
     "output_type": "display_data"
    }
   ],
   "source": [
    "# Heatmap of percent humidity\n",
    "locations = city_data_df[[\"Lat\", \"Lng\"]]\n",
    "humidity = city_data_df[\"Humidity\"]\n",
    "fig = gmaps.figure(center=(30.0, 31.0), zoom_level=1.5)\n",
    "heat_layer = gmaps.heatmap_layer(locations, weights=humidity, dissipating=False, max_intensity=300, point_radius=4)\n",
    "\n",
    "fig.add_layer(heat_layer)\n",
    "# Call the figure to plot the data.\n",
    "fig"
   ]
  },
  {
   "cell_type": "code",
   "execution_count": 14,
   "id": "0c3c09ce",
   "metadata": {},
   "outputs": [
    {
     "data": {
      "application/vnd.jupyter.widget-view+json": {
       "model_id": "ef85b510ef69455f96dde142b86b43cb",
       "version_major": 2,
       "version_minor": 0
      },
      "text/plain": [
       "Figure(layout=FigureLayout(height='420px'))"
      ]
     },
     "metadata": {},
     "output_type": "display_data"
    }
   ],
   "source": [
    "# Heatmap of percent cloudiness\n",
    "locations = city_data_df[[\"Lat\", \"Lng\"]]\n",
    "clouds =  city_data_df[\"Cloudiness\"]\n",
    "fig = gmaps.figure(center=(30.0, 31.0), zoom_level=1.5)\n",
    "heat_layer = gmaps.heatmap_layer(locations, weights = clouds,\n",
    "dissipating=False, max_intensity=300, point_radius=4)\n",
    "\n",
    "fig.add_layer(heat_layer)\n",
    "# Call the figure to plot the data.\n",
    "\n",
    "fig"
   ]
  },
  {
   "cell_type": "code",
   "execution_count": 15,
   "id": "799f6e15",
   "metadata": {},
   "outputs": [
    {
     "data": {
      "application/vnd.jupyter.widget-view+json": {
       "model_id": "8065769e308a44619b6144c07d53f948",
       "version_major": 2,
       "version_minor": 0
      },
      "text/plain": [
       "Figure(layout=FigureLayout(height='420px'))"
      ]
     },
     "metadata": {},
     "output_type": "display_data"
    }
   ],
   "source": [
    "# Heatmap of percent Wind Speed\n",
    "locations = city_data_df[[\"Lat\", \"Lng\"]]\n",
    "wind_speed =  city_data_df[\"Wind Speed\"]\n",
    "fig = gmaps.figure(center=(30.0, 31.0), zoom_level=1.5)\n",
    "heat_layer = gmaps.heatmap_layer(locations, weights = wind_speed,\n",
    "dissipating=False, max_intensity=300, point_radius=4)\n",
    "\n",
    "fig.add_layer(heat_layer)\n",
    "# Call the figure to plot the data.\n",
    "\n",
    "fig"
   ]
  },
  {
   "cell_type": "code",
   "execution_count": 21,
   "id": "bb9c8b80",
   "metadata": {},
   "outputs": [
    {
     "name": "stdout",
     "output_type": "stream",
     "text": [
      "What is the minimum temperature you would like for your trip? 65\n",
      "What is the maximum temperature you would like for your trip? 90\n"
     ]
    }
   ],
   "source": [
    "# Ask the customer to add a minimum and maximum temperature value.\n",
    "min_temp = float(input(\"What is the minimum temperature you would like for your trip? \"))\n",
    "max_temp = float(input(\"What is the maximum temperature you would like for your trip? \"))"
   ]
  },
  {
   "cell_type": "code",
   "execution_count": 22,
   "id": "754cb317",
   "metadata": {},
   "outputs": [
    {
     "data": {
      "text/html": [
       "<div>\n",
       "<style scoped>\n",
       "    .dataframe tbody tr th:only-of-type {\n",
       "        vertical-align: middle;\n",
       "    }\n",
       "\n",
       "    .dataframe tbody tr th {\n",
       "        vertical-align: top;\n",
       "    }\n",
       "\n",
       "    .dataframe thead th {\n",
       "        text-align: right;\n",
       "    }\n",
       "</style>\n",
       "<table border=\"1\" class=\"dataframe\">\n",
       "  <thead>\n",
       "    <tr style=\"text-align: right;\">\n",
       "      <th></th>\n",
       "      <th>City_ID</th>\n",
       "      <th>City</th>\n",
       "      <th>Country</th>\n",
       "      <th>Date</th>\n",
       "      <th>Lat</th>\n",
       "      <th>Lng</th>\n",
       "      <th>Max Temp</th>\n",
       "      <th>Humidity</th>\n",
       "      <th>Cloudiness</th>\n",
       "      <th>Wind Speed</th>\n",
       "    </tr>\n",
       "  </thead>\n",
       "  <tbody>\n",
       "    <tr>\n",
       "      <th>1</th>\n",
       "      <td>1</td>\n",
       "      <td>Rikitea</td>\n",
       "      <td>PF</td>\n",
       "      <td>2022-07-14 11:51:40</td>\n",
       "      <td>-23.1203</td>\n",
       "      <td>-134.9692</td>\n",
       "      <td>68.38</td>\n",
       "      <td>86</td>\n",
       "      <td>100</td>\n",
       "      <td>10.74</td>\n",
       "    </tr>\n",
       "    <tr>\n",
       "      <th>4</th>\n",
       "      <td>4</td>\n",
       "      <td>Carnarvon</td>\n",
       "      <td>AU</td>\n",
       "      <td>2022-07-14 11:51:41</td>\n",
       "      <td>-24.8667</td>\n",
       "      <td>113.6333</td>\n",
       "      <td>69.24</td>\n",
       "      <td>77</td>\n",
       "      <td>8</td>\n",
       "      <td>10.98</td>\n",
       "    </tr>\n",
       "    <tr>\n",
       "      <th>5</th>\n",
       "      <td>5</td>\n",
       "      <td>Bethel</td>\n",
       "      <td>US</td>\n",
       "      <td>2022-07-14 11:51:41</td>\n",
       "      <td>41.3712</td>\n",
       "      <td>-73.4140</td>\n",
       "      <td>73.53</td>\n",
       "      <td>84</td>\n",
       "      <td>0</td>\n",
       "      <td>3.44</td>\n",
       "    </tr>\n",
       "    <tr>\n",
       "      <th>7</th>\n",
       "      <td>7</td>\n",
       "      <td>Kabale</td>\n",
       "      <td>UG</td>\n",
       "      <td>2022-07-14 11:51:42</td>\n",
       "      <td>-1.2486</td>\n",
       "      <td>29.9899</td>\n",
       "      <td>76.82</td>\n",
       "      <td>33</td>\n",
       "      <td>40</td>\n",
       "      <td>8.57</td>\n",
       "    </tr>\n",
       "    <tr>\n",
       "      <th>10</th>\n",
       "      <td>10</td>\n",
       "      <td>Antalaha</td>\n",
       "      <td>MG</td>\n",
       "      <td>2022-07-14 11:51:43</td>\n",
       "      <td>-14.9003</td>\n",
       "      <td>50.2788</td>\n",
       "      <td>76.77</td>\n",
       "      <td>62</td>\n",
       "      <td>17</td>\n",
       "      <td>15.57</td>\n",
       "    </tr>\n",
       "    <tr>\n",
       "      <th>11</th>\n",
       "      <td>11</td>\n",
       "      <td>Saint-Philippe</td>\n",
       "      <td>RE</td>\n",
       "      <td>2022-07-14 11:51:43</td>\n",
       "      <td>-21.3585</td>\n",
       "      <td>55.7679</td>\n",
       "      <td>76.59</td>\n",
       "      <td>77</td>\n",
       "      <td>60</td>\n",
       "      <td>11.54</td>\n",
       "    </tr>\n",
       "    <tr>\n",
       "      <th>12</th>\n",
       "      <td>12</td>\n",
       "      <td>Quatre Cocos</td>\n",
       "      <td>MU</td>\n",
       "      <td>2022-07-14 11:51:43</td>\n",
       "      <td>-20.2078</td>\n",
       "      <td>57.7625</td>\n",
       "      <td>75.31</td>\n",
       "      <td>67</td>\n",
       "      <td>64</td>\n",
       "      <td>17.34</td>\n",
       "    </tr>\n",
       "    <tr>\n",
       "      <th>15</th>\n",
       "      <td>15</td>\n",
       "      <td>Kutum</td>\n",
       "      <td>SD</td>\n",
       "      <td>2022-07-14 11:51:44</td>\n",
       "      <td>14.2000</td>\n",
       "      <td>24.6667</td>\n",
       "      <td>85.59</td>\n",
       "      <td>39</td>\n",
       "      <td>50</td>\n",
       "      <td>9.57</td>\n",
       "    </tr>\n",
       "    <tr>\n",
       "      <th>16</th>\n",
       "      <td>16</td>\n",
       "      <td>Vaini</td>\n",
       "      <td>TO</td>\n",
       "      <td>2022-07-14 11:51:45</td>\n",
       "      <td>-21.2000</td>\n",
       "      <td>-175.2000</td>\n",
       "      <td>75.36</td>\n",
       "      <td>94</td>\n",
       "      <td>2</td>\n",
       "      <td>6.91</td>\n",
       "    </tr>\n",
       "    <tr>\n",
       "      <th>21</th>\n",
       "      <td>21</td>\n",
       "      <td>Georgetown</td>\n",
       "      <td>MY</td>\n",
       "      <td>2022-07-14 11:46:51</td>\n",
       "      <td>5.4112</td>\n",
       "      <td>100.3354</td>\n",
       "      <td>85.95</td>\n",
       "      <td>79</td>\n",
       "      <td>20</td>\n",
       "      <td>3.44</td>\n",
       "    </tr>\n",
       "  </tbody>\n",
       "</table>\n",
       "</div>"
      ],
      "text/plain": [
       "    City_ID            City Country                 Date      Lat       Lng  \\\n",
       "1         1         Rikitea      PF  2022-07-14 11:51:40 -23.1203 -134.9692   \n",
       "4         4       Carnarvon      AU  2022-07-14 11:51:41 -24.8667  113.6333   \n",
       "5         5          Bethel      US  2022-07-14 11:51:41  41.3712  -73.4140   \n",
       "7         7          Kabale      UG  2022-07-14 11:51:42  -1.2486   29.9899   \n",
       "10       10        Antalaha      MG  2022-07-14 11:51:43 -14.9003   50.2788   \n",
       "11       11  Saint-Philippe      RE  2022-07-14 11:51:43 -21.3585   55.7679   \n",
       "12       12    Quatre Cocos      MU  2022-07-14 11:51:43 -20.2078   57.7625   \n",
       "15       15           Kutum      SD  2022-07-14 11:51:44  14.2000   24.6667   \n",
       "16       16           Vaini      TO  2022-07-14 11:51:45 -21.2000 -175.2000   \n",
       "21       21      Georgetown      MY  2022-07-14 11:46:51   5.4112  100.3354   \n",
       "\n",
       "    Max Temp  Humidity  Cloudiness  Wind Speed  \n",
       "1      68.38        86         100       10.74  \n",
       "4      69.24        77           8       10.98  \n",
       "5      73.53        84           0        3.44  \n",
       "7      76.82        33          40        8.57  \n",
       "10     76.77        62          17       15.57  \n",
       "11     76.59        77          60       11.54  \n",
       "12     75.31        67          64       17.34  \n",
       "15     85.59        39          50        9.57  \n",
       "16     75.36        94           2        6.91  \n",
       "21     85.95        79          20        3.44  "
      ]
     },
     "execution_count": 22,
     "metadata": {},
     "output_type": "execute_result"
    }
   ],
   "source": [
    "# Filter the dataset to find the cities that fit the criteria.\n",
    "preferred_cities_df = city_data_df.loc[(city_data_df[\"Max Temp\"] <= max_temp) & \\\n",
    "                                       (city_data_df[\"Max Temp\"] >= min_temp)]\n",
    "preferred_cities_df.head(10)"
   ]
  },
  {
   "cell_type": "code",
   "execution_count": 23,
   "id": "233fc0b8",
   "metadata": {},
   "outputs": [
    {
     "data": {
      "text/plain": [
       "City_ID       315\n",
       "City          315\n",
       "Country       313\n",
       "Date          315\n",
       "Lat           315\n",
       "Lng           315\n",
       "Max Temp      315\n",
       "Humidity      315\n",
       "Cloudiness    315\n",
       "Wind Speed    315\n",
       "dtype: int64"
      ]
     },
     "execution_count": 23,
     "metadata": {},
     "output_type": "execute_result"
    }
   ],
   "source": [
    "preferred_cities_df.count()"
   ]
  },
  {
   "cell_type": "code",
   "execution_count": 33,
   "id": "ce1b68ef",
   "metadata": {},
   "outputs": [
    {
     "data": {
      "text/html": [
       "<div>\n",
       "<style scoped>\n",
       "    .dataframe tbody tr th:only-of-type {\n",
       "        vertical-align: middle;\n",
       "    }\n",
       "\n",
       "    .dataframe tbody tr th {\n",
       "        vertical-align: top;\n",
       "    }\n",
       "\n",
       "    .dataframe thead th {\n",
       "        text-align: right;\n",
       "    }\n",
       "</style>\n",
       "<table border=\"1\" class=\"dataframe\">\n",
       "  <thead>\n",
       "    <tr style=\"text-align: right;\">\n",
       "      <th></th>\n",
       "      <th>City</th>\n",
       "      <th>Country</th>\n",
       "      <th>Max Temp</th>\n",
       "      <th>Lat</th>\n",
       "      <th>Lng</th>\n",
       "      <th>Hotel Name</th>\n",
       "    </tr>\n",
       "  </thead>\n",
       "  <tbody>\n",
       "    <tr>\n",
       "      <th>1</th>\n",
       "      <td>Rikitea</td>\n",
       "      <td>PF</td>\n",
       "      <td>68.38</td>\n",
       "      <td>-23.1203</td>\n",
       "      <td>-134.9692</td>\n",
       "      <td></td>\n",
       "    </tr>\n",
       "    <tr>\n",
       "      <th>4</th>\n",
       "      <td>Carnarvon</td>\n",
       "      <td>AU</td>\n",
       "      <td>69.24</td>\n",
       "      <td>-24.8667</td>\n",
       "      <td>113.6333</td>\n",
       "      <td></td>\n",
       "    </tr>\n",
       "    <tr>\n",
       "      <th>5</th>\n",
       "      <td>Bethel</td>\n",
       "      <td>US</td>\n",
       "      <td>73.53</td>\n",
       "      <td>41.3712</td>\n",
       "      <td>-73.4140</td>\n",
       "      <td></td>\n",
       "    </tr>\n",
       "    <tr>\n",
       "      <th>7</th>\n",
       "      <td>Kabale</td>\n",
       "      <td>UG</td>\n",
       "      <td>76.82</td>\n",
       "      <td>-1.2486</td>\n",
       "      <td>29.9899</td>\n",
       "      <td></td>\n",
       "    </tr>\n",
       "    <tr>\n",
       "      <th>10</th>\n",
       "      <td>Antalaha</td>\n",
       "      <td>MG</td>\n",
       "      <td>76.77</td>\n",
       "      <td>-14.9003</td>\n",
       "      <td>50.2788</td>\n",
       "      <td></td>\n",
       "    </tr>\n",
       "    <tr>\n",
       "      <th>11</th>\n",
       "      <td>Saint-Philippe</td>\n",
       "      <td>RE</td>\n",
       "      <td>76.59</td>\n",
       "      <td>-21.3585</td>\n",
       "      <td>55.7679</td>\n",
       "      <td></td>\n",
       "    </tr>\n",
       "    <tr>\n",
       "      <th>12</th>\n",
       "      <td>Quatre Cocos</td>\n",
       "      <td>MU</td>\n",
       "      <td>75.31</td>\n",
       "      <td>-20.2078</td>\n",
       "      <td>57.7625</td>\n",
       "      <td></td>\n",
       "    </tr>\n",
       "    <tr>\n",
       "      <th>15</th>\n",
       "      <td>Kutum</td>\n",
       "      <td>SD</td>\n",
       "      <td>85.59</td>\n",
       "      <td>14.2000</td>\n",
       "      <td>24.6667</td>\n",
       "      <td></td>\n",
       "    </tr>\n",
       "    <tr>\n",
       "      <th>16</th>\n",
       "      <td>Vaini</td>\n",
       "      <td>TO</td>\n",
       "      <td>75.36</td>\n",
       "      <td>-21.2000</td>\n",
       "      <td>-175.2000</td>\n",
       "      <td></td>\n",
       "    </tr>\n",
       "    <tr>\n",
       "      <th>21</th>\n",
       "      <td>Georgetown</td>\n",
       "      <td>MY</td>\n",
       "      <td>85.95</td>\n",
       "      <td>5.4112</td>\n",
       "      <td>100.3354</td>\n",
       "      <td></td>\n",
       "    </tr>\n",
       "  </tbody>\n",
       "</table>\n",
       "</div>"
      ],
      "text/plain": [
       "              City Country  Max Temp      Lat       Lng Hotel Name\n",
       "1          Rikitea      PF     68.38 -23.1203 -134.9692           \n",
       "4        Carnarvon      AU     69.24 -24.8667  113.6333           \n",
       "5           Bethel      US     73.53  41.3712  -73.4140           \n",
       "7           Kabale      UG     76.82  -1.2486   29.9899           \n",
       "10        Antalaha      MG     76.77 -14.9003   50.2788           \n",
       "11  Saint-Philippe      RE     76.59 -21.3585   55.7679           \n",
       "12    Quatre Cocos      MU     75.31 -20.2078   57.7625           \n",
       "15           Kutum      SD     85.59  14.2000   24.6667           \n",
       "16           Vaini      TO     75.36 -21.2000 -175.2000           \n",
       "21      Georgetown      MY     85.95   5.4112  100.3354           "
      ]
     },
     "execution_count": 33,
     "metadata": {},
     "output_type": "execute_result"
    }
   ],
   "source": [
    "# Create DataFrame called hotel_df to store hotel names along with city, country, max temp, and coordinates.\n",
    "hotel_df = preferred_cities_df[[\"City\", \"Country\", \"Max Temp\", \"Lat\", \"Lng\"]].copy()\n",
    "hotel_df[\"Hotel Name\"] = \"\"\n",
    "hotel_df.head(10)"
   ]
  },
  {
   "cell_type": "code",
   "execution_count": 26,
   "id": "bb51a1a1",
   "metadata": {},
   "outputs": [],
   "source": [
    "# Set parameters to search for a hotel.\n",
    "params = {\n",
    "    \"radius\": 5000,\n",
    "    \"type\": \"lodging\",\n",
    "    \"key\": g_key\n",
    "}"
   ]
  },
  {
   "cell_type": "code",
   "execution_count": 27,
   "id": "52cda5a6",
   "metadata": {},
   "outputs": [
    {
     "name": "stdout",
     "output_type": "stream",
     "text": [
      "No hotel found...skipping.\n",
      "No hotel found...skipping.\n",
      "No hotel found...skipping.\n",
      "No hotel found...skipping.\n",
      "No hotel found...skipping.\n",
      "No hotel found...skipping.\n",
      "No hotel found...skipping.\n",
      "No hotel found...skipping.\n",
      "No hotel found...skipping.\n",
      "No hotel found...skipping.\n",
      "No hotel found...skipping.\n",
      "No hotel found...skipping.\n",
      "No hotel found...skipping.\n",
      "No hotel found...skipping.\n",
      "No hotel found...skipping.\n",
      "No hotel found...skipping.\n",
      "No hotel found...skipping.\n",
      "No hotel found...skipping.\n",
      "No hotel found...skipping.\n",
      "No hotel found...skipping.\n",
      "No hotel found...skipping.\n",
      "No hotel found...skipping.\n",
      "No hotel found...skipping.\n",
      "No hotel found...skipping.\n",
      "No hotel found...skipping.\n",
      "No hotel found...skipping.\n",
      "No hotel found...skipping.\n",
      "No hotel found...skipping.\n",
      "No hotel found...skipping.\n",
      "No hotel found...skipping.\n",
      "No hotel found...skipping.\n",
      "No hotel found...skipping.\n",
      "No hotel found...skipping.\n",
      "No hotel found...skipping.\n",
      "No hotel found...skipping.\n",
      "No hotel found...skipping.\n",
      "No hotel found...skipping.\n",
      "No hotel found...skipping.\n",
      "No hotel found...skipping.\n"
     ]
    }
   ],
   "source": [
    "# iterate through hotel DF to get locations for each city\n",
    "for index, row in hotel_df.iterrows():\n",
    "    lat = row['Lat']\n",
    "    lng = row['Lng']\n",
    "    \n",
    "    # Add latitude and longitude to parameters for search\n",
    "    params[\"location\"] = f\"{lat},{lng}\"\n",
    "    \n",
    "    # Create base_url for search\n",
    "    base_url = \"https://maps.googleapis.com/maps/api/place/nearbysearch/json\"\n",
    "    \n",
    "    # Make request and get the JSON data\n",
    "    hotels = requests.get(base_url, params=params).json()\n",
    "    \n",
    "    # Store name of first hotel in hotel DF\n",
    "    try:\n",
    "        hotel_df.loc[index, \"Hotel Name\"] = hotels[\"results\"][0][\"name\"]\n",
    "        \n",
    "    except (IndexError): \n",
    "        print(\"No hotel found...skipping.\")"
   ]
  },
  {
   "cell_type": "code",
   "execution_count": null,
   "id": "86483cef",
   "metadata": {},
   "outputs": [],
   "source": []
  },
  {
   "cell_type": "code",
   "execution_count": 28,
   "id": "5d2367ca",
   "metadata": {},
   "outputs": [
    {
     "data": {
      "application/vnd.jupyter.widget-view+json": {
       "model_id": "1a482ff29e9f48e999eb26d5bedf15ed",
       "version_major": 2,
       "version_minor": 0
      },
      "text/plain": [
       "Figure(layout=FigureLayout(height='420px'))"
      ]
     },
     "metadata": {},
     "output_type": "display_data"
    }
   ],
   "source": [
    "# Add a heatmap of temperature for the vacation spots and marker for each city.\n",
    "locations = hotel_df[[\"Lat\", \"Lng\"]]\n",
    "max_temp = hotel_df[\"Max Temp\"]\n",
    "fig = gmaps.figure(center=(30.0, 31.0), zoom_level=1.5)\n",
    "heat_layer = gmaps.heatmap_layer(locations, weights=max_temp,\n",
    "             dissipating=False, max_intensity=300, point_radius=4)\n",
    "marker_layer = gmaps.marker_layer(locations)\n",
    "fig.add_layer(heat_layer)\n",
    "fig.add_layer(marker_layer)\n",
    "# Call the figure to plot the data.\n",
    "fig"
   ]
  },
  {
   "cell_type": "code",
   "execution_count": 30,
   "id": "a30f7516",
   "metadata": {},
   "outputs": [],
   "source": [
    "info_box_template = \"\"\"\n",
    "<dl>\n",
    "<dt>Hotel Name</dt><dd>{Hotel Name}</dd>\n",
    "<dt>City</dt><dd>{City}</dd>\n",
    "<dt>Country</dt><dd>{Country}</dd>\n",
    "<dt>Max Temp</dt><dd>{Max Temp} °F</dd>\n",
    "</dl>\n",
    "\"\"\""
   ]
  },
  {
   "cell_type": "code",
   "execution_count": 31,
   "id": "be571f72",
   "metadata": {},
   "outputs": [],
   "source": [
    "# Store the DataFrame Row.\n",
    "hotel_info = [info_box_template.format(**row) for index, row in hotel_df.iterrows()]"
   ]
  },
  {
   "cell_type": "code",
   "execution_count": 32,
   "id": "cd239924",
   "metadata": {},
   "outputs": [
    {
     "data": {
      "application/vnd.jupyter.widget-view+json": {
       "model_id": "b29eed9e7a5d477089bf87c059e2ab63",
       "version_major": 2,
       "version_minor": 0
      },
      "text/plain": [
       "Figure(layout=FigureLayout(height='420px'))"
      ]
     },
     "metadata": {},
     "output_type": "display_data"
    }
   ],
   "source": [
    "# Add a heatmap of temperature for the vacation spots and a pop-up marker for each city.\n",
    "locations = hotel_df[[\"Lat\", \"Lng\"]]\n",
    "max_temp = hotel_df[\"Max Temp\"]\n",
    "fig = gmaps.figure(center=(30.0, 31.0), zoom_level=1.5)\n",
    "heat_layer = gmaps.heatmap_layer(locations, weights=max_temp,dissipating=False,\n",
    "             max_intensity=300, point_radius=4)\n",
    "marker_layer = gmaps.marker_layer(locations, info_box_content=hotel_info)\n",
    "fig.add_layer(heat_layer)\n",
    "fig.add_layer(marker_layer)\n",
    "\n",
    "# Call the figure to plot the data.\n",
    "fig"
   ]
  },
  {
   "cell_type": "code",
   "execution_count": null,
   "id": "5e869f11",
   "metadata": {},
   "outputs": [],
   "source": []
  }
 ],
 "metadata": {
  "kernelspec": {
   "display_name": "PythonData",
   "language": "python",
   "name": "pythondata"
  },
  "language_info": {
   "codemirror_mode": {
    "name": "ipython",
    "version": 3
   },
   "file_extension": ".py",
   "mimetype": "text/x-python",
   "name": "python",
   "nbconvert_exporter": "python",
   "pygments_lexer": "ipython3",
   "version": "3.7.13"
  }
 },
 "nbformat": 4,
 "nbformat_minor": 5
}
